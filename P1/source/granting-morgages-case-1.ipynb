{
 "cells": [
  {
   "cell_type": "markdown",
   "metadata": {},
   "source": [
    "# Práctica 1 Extracción del conocimiento en bases de datos"
   ]
  },
  {
   "cell_type": "markdown",
   "metadata": {},
   "source": [
    "Se desea construir un sistema basado en Analítica de datos que\n",
    "ayude en la tarea de concesión de los créditos.\n",
    "\n",
    "## Tareas\n",
    "\n",
    "`Preparar los datos`. \n",
    "Desarrollar las tareas de prepararación de los\n",
    "datos necesarias para disponer de una base de datos apropiada\n",
    "para la tarea de clasificación. Entre las labores a realizar se encuentran las de visualización y comprensión de las variables, cambio de tipos, transformación e identificación de outliers y datos\n",
    "faltantes. También debe quedar claro si nos enfrentamos a una\n",
    "clasificación con clases balanceadas o no.\n"
   ]
  },
  {
   "cell_type": "markdown",
   "metadata": {},
   "source": [
    "Para comenzar con la práctica, primero se importan las librerías necesarias y se carga el dataset."
   ]
  },
  {
   "cell_type": "code",
   "execution_count": 63,
   "metadata": {},
   "outputs": [],
   "source": [
    "# Carga de las distintas librerías necesarias y el dataset del que se hace uso\n",
    "import pandas as pd\n",
    "\n",
    "\n",
    "# Carga del dataset\n",
    "dataset = pd.read_csv('../data/Base de datos - homeLoanAproval.csv')"
   ]
  },
  {
   "cell_type": "markdown",
   "metadata": {},
   "source": [
    "Una vez se tienen cargadas las distintas librerías de las cuales se va a hacer uso, y, el dataset, se procede a realizar los cambios de tipos, la transformación e identificación de outliers y datos faltantes."
   ]
  },
  {
   "cell_type": "code",
   "execution_count": 64,
   "metadata": {},
   "outputs": [
    {
     "name": "stdout",
     "output_type": "stream",
     "text": [
      "    Loan_ID Gender Married Dependents     Education SelfEmployed  \\\n",
      "0  LP001002   Male      No          0      Graduate           No   \n",
      "1  LP001003   Male     Yes          1      Graduate           No   \n",
      "2  LP001005   Male     Yes          0      Graduate          Yes   \n",
      "3  LP001006   Male     Yes          0  Not Graduate           No   \n",
      "4  LP001008   Male      No          0      Graduate           No   \n",
      "\n",
      "   ApplicantIncome CoapplicantIncome  LoanAmount  LoanAmountTerm PropertyArea  \\\n",
      "0             5849                 0         NaN           360.0        Urban   \n",
      "1             4583              1508       128.0           360.0        Rural   \n",
      "2             3000                 0        66.0           360.0        Urban   \n",
      "3             2583              2358       120.0           360.0        Urban   \n",
      "4             6000                 0       141.0           360.0        Urban   \n",
      "\n",
      "  LoanStatus  \n",
      "0          Y  \n",
      "1          N  \n",
      "2          Y  \n",
      "3          Y  \n",
      "4          Y  \n",
      "\n",
      "Número de registros y columnas del dataset:  (614, 12)\n"
     ]
    }
   ],
   "source": [
    "# Se visualizan los primeros 5 registros del dataset\n",
    "print(dataset.head())\n",
    "\n",
    "# Se visualiza la cantidad de registros y columnas del dataset\n",
    "print()\n",
    "print('Número de registros y columnas del dataset: ', dataset.shape)"
   ]
  },
  {
   "cell_type": "code",
   "execution_count": 65,
   "metadata": {},
   "outputs": [
    {
     "name": "stdout",
     "output_type": "stream",
     "text": [
      "\n",
      "Tipos de datos de las columnas del dataset: \n",
      "Loan_ID               object\n",
      "Gender                object\n",
      "Married               object\n",
      "Dependents            object\n",
      "Education             object\n",
      "SelfEmployed          object\n",
      "ApplicantIncome        int64\n",
      "CoapplicantIncome     object\n",
      "LoanAmount           float64\n",
      "LoanAmountTerm       float64\n",
      "PropertyArea          object\n",
      "LoanStatus            object\n",
      "dtype: object\n",
      "\n",
      "Resumen estadístico de las columnas numéricas del dataset: \n",
      "       ApplicantIncome  LoanAmount  LoanAmountTerm\n",
      "count       614.000000  592.000000       600.00000\n",
      "mean       5403.459283  146.412162       342.00000\n",
      "std        6109.041673   85.587325        65.12041\n",
      "min         150.000000    9.000000        12.00000\n",
      "25%        2877.500000  100.000000       360.00000\n",
      "50%        3812.500000  128.000000       360.00000\n",
      "75%        5795.000000  168.000000       360.00000\n",
      "max       81000.000000  700.000000       480.00000\n"
     ]
    }
   ],
   "source": [
    "# Se identifican los tipos de datos de las columnas del dataset, además del significado de cada una de ellas\n",
    "print()\n",
    "print('Tipos de datos de las columnas del dataset: ')\n",
    "print(dataset.dtypes)\n",
    "\n",
    "# Se hace un resumen estadístico de las columnas numéricas del dataset\n",
    "print()\n",
    "print('Resumen estadístico de las columnas numéricas del dataset: ')\n",
    "print(dataset.describe())\n"
   ]
  },
  {
   "cell_type": "markdown",
   "metadata": {},
   "source": [
    "Teniendo en cuenta esto anterior, cabe destacar que el dataset se compone de 12 variables, de las cuales 11 son variables predictoras y 1 es la variable objetivo. Las variables predictoras son las siguientes:\n",
    "\n",
    "- `Loan_ID`: Identificador de la solicitud.\n",
    "- `Gender`: Género del solicitante.\n",
    "- `Married`: Estado civil del solicitante.\n",
    "- `Dependents`: Número de personas a cargo del solicitante.\n",
    "- `Education`: Nivel de educación del solicitante.\n",
    "- `Self_Employed`: Si el solicitante es autónomo o no.\n",
    "- `ApplicantIncome`: Ingresos del solicitante.\n",
    "- `CoapplicantIncome`: Ingresos del segundo solicitante del crédito.\n",
    "- `LoanAmount`: Cantidad del préstamo.\n",
    "- `LoanAmountTerm`: Plazo del préstamo (Medido en meses).\n",
    "- `PropertyArea`: Zona de la propiedad que se quiere hipotecar.\n",
    "- `LoanStatus`: Indica el estado de que se ha concedido o no el préstamo."
   ]
  },
  {
   "cell_type": "code",
   "execution_count": 66,
   "metadata": {},
   "outputs": [
    {
     "name": "stdout",
     "output_type": "stream",
     "text": [
      "\n",
      "Valores nulos de cada columna del dataset: \n",
      "Loan_ID               0\n",
      "Gender               13\n",
      "Married               3\n",
      "Dependents           15\n",
      "Education             0\n",
      "SelfEmployed         32\n",
      "ApplicantIncome       0\n",
      "CoapplicantIncome     0\n",
      "LoanAmount           22\n",
      "LoanAmountTerm       14\n",
      "PropertyArea          0\n",
      "LoanStatus            0\n",
      "dtype: int64\n"
     ]
    }
   ],
   "source": [
    "# Se identifican los valores nulos de cada columna del dataset\n",
    "print()\n",
    "print('Valores nulos de cada columna del dataset: ')\n",
    "print(dataset.isnull().sum())"
   ]
  },
  {
   "cell_type": "markdown",
   "metadata": {},
   "source": [
    "Teniendo en cuenta los valores nulos que se encuentran en las distintas columnas anteriores, se procede a tomar decisiones o acciones dependiendo del tipo de variable que se trate. "
   ]
  },
  {
   "cell_type": "code",
   "execution_count": 67,
   "metadata": {},
   "outputs": [
    {
     "name": "stdout",
     "output_type": "stream",
     "text": [
      "Valores nulos de cada columna del dataset después de eliminar filas con nulos: \n",
      "Loan_ID              0\n",
      "Gender               0\n",
      "Married              0\n",
      "Dependents           0\n",
      "Education            0\n",
      "SelfEmployed         0\n",
      "ApplicantIncome      0\n",
      "CoapplicantIncome    0\n",
      "LoanAmount           0\n",
      "LoanAmountTerm       0\n",
      "PropertyArea         0\n",
      "LoanStatus           0\n",
      "dtype: int64\n"
     ]
    }
   ],
   "source": [
    "# Eliminar filas con valores nulos en el dataset\n",
    "dataset = dataset.dropna()\n",
    "\n",
    "# Verificar que no queden valores nulos\n",
    "print('Valores nulos de cada columna del dataset después de eliminar filas con nulos: ')\n",
    "print(dataset.isnull().sum())"
   ]
  },
  {
   "cell_type": "code",
   "execution_count": 68,
   "metadata": {},
   "outputs": [],
   "source": [
    "# Cambios de tipos de datos de las columnas del dataset para su correcto manejo\n",
    "\n",
    "# Conversión de columnas a tipo categórico, ya que este tipo para pandas es más eficiente que el tipo object, debido a que se tratan de aquellas variables que pueden tomar un número limitado de valores distintos \n",
    "# Reemplazar valores no válidos en la columna 'Dependents'\n",
    "dataset['Dependents'] = dataset['Dependents'].replace('3+', 3)\n",
    "\n",
    "# Conversión de Dependents a tipo entero (int64)\n",
    "dataset['Dependents'] = dataset['Dependents'].astype('int64')\n",
    "\n",
    "# Conversión de columnas a tipo categórico\n",
    "dataset['Gender'] = dataset['Gender'].astype('category')\n",
    "dataset['Married'] = dataset['Married'].astype('category')\n",
    "dataset['Education'] = dataset['Education'].astype('category')\n",
    "dataset['SelfEmployed'] = dataset['SelfEmployed'].astype('category')\n",
    "dataset['PropertyArea'] = dataset['PropertyArea'].astype('category')\n",
    "dataset['LoanStatus'] = dataset['LoanStatus'].astype('category')\n",
    "\n",
    "# # Conversión de CoapplicantIncome a tipo numérico (float64)\n",
    "dataset['CoapplicantIncome'] = dataset['CoapplicantIncome'].str.replace('.', '', regex=False)\n",
    "dataset['CoapplicantIncome'] = pd.to_numeric(dataset['CoapplicantIncome'], errors='coerce')\n",
    "\n",
    "# Conversión de LoanAmountTerm a tipo entero\n",
    "dataset['LoanAmountTerm'] = dataset['LoanAmountTerm'].astype('int64')"
   ]
  },
  {
   "cell_type": "markdown",
   "metadata": {},
   "source": [
    "## Análisis de los datos"
   ]
  },
  {
   "cell_type": "markdown",
   "metadata": {},
   "source": [
    "```Analizar los datos```. Construir un clasificador k-NN, un árbol de\n",
    "clasificación y un clasificador naive Bayes. Se propone considerar\n",
    "varios escenarios. En el primero, independientemente de que existan o no datos faltantes o outliers, se aplicará el correspondiente\n",
    "algoritmo de inducción sin tener en cuenta estos hechos.\n"
   ]
  },
  {
   "cell_type": "markdown",
   "metadata": {},
   "source": [
    "### Clasificador k-NN"
   ]
  },
  {
   "cell_type": "code",
   "execution_count": 69,
   "metadata": {},
   "outputs": [
    {
     "name": "stdout",
     "output_type": "stream",
     "text": [
      "Clasificator k-NN scores\n",
      "Accuracy score train: 0.7416267942583732\n",
      "Accuracy score test: 0.6571428571428571\n",
      "\n",
      "Confuisión matrix\n",
      "[[ 5 29]\n",
      " [ 7 64]]\n",
      "\n",
      "Classification report\n",
      "              precision    recall  f1-score   support\n",
      "\n",
      "           N       0.42      0.15      0.22        34\n",
      "           Y       0.69      0.90      0.78        71\n",
      "\n",
      "    accuracy                           0.66       105\n",
      "   macro avg       0.55      0.52      0.50       105\n",
      "weighted avg       0.60      0.66      0.60       105\n",
      "\n"
     ]
    }
   ],
   "source": [
    "from sklearn.model_selection import train_test_split\n",
    "from sklearn.preprocessing import StandardScaler\n",
    "from sklearn.neighbors import KNeighborsClassifier\n",
    "from sklearn.metrics import classification_report, confusion_matrix, accuracy_score\n",
    "import pandas as pd\n",
    "\n",
    "# Convertir columnas categóricas a variables dummy (para que sean tratadas como variables numéricas)\n",
    "X = pd.get_dummies(dataset.drop('LoanStatus', axis=1))\n",
    "y = dataset['LoanStatus']\n",
    "\n",
    "# Dividir el dataset en conjunto de entrenamiento y conjunto de prueba\n",
    "X_train, X_test, y_train, y_test = train_test_split(X, y, test_size=0.2, random_state=42)\n",
    "\n",
    "# Escalar las características\n",
    "scaler = StandardScaler()\n",
    "X_train = scaler.fit_transform(X_train)\n",
    "X_test = scaler.transform(X_test)\n",
    "\n",
    "# Crear el clasificador k-NN\n",
    "knn = KNeighborsClassifier(n_neighbors=5)\n",
    "\n",
    "# Entrenar el clasificador\n",
    "knn.fit(X_train, y_train)\n",
    "\n",
    "# Realizar predicciones\n",
    "y_pred = knn.predict(X_test)\n",
    "y_pred_train = knn.predict(X_train)\n",
    "\n",
    "# Evaluar el clasificador\n",
    "print(\"Clasificator k-NN scores\")\n",
    "print(\"Accuracy score train: {}\".format(accuracy_score(y_train, y_pred_train)))\n",
    "print(\"Accuracy score test: {}\".format(accuracy_score(y_test, y_pred)))\n",
    "\n",
    "# Evaluar el clasificador\n",
    "print()\n",
    "print(\"Confuisión matrix\")\n",
    "print(confusion_matrix(y_test, y_pred))\n",
    "print()\n",
    "print(\"Classification report\")\n",
    "print(classification_report(y_test, y_pred))"
   ]
  },
  {
   "cell_type": "markdown",
   "metadata": {},
   "source": [
    "### Clasificador Árbol de clasificación"
   ]
  },
  {
   "cell_type": "code",
   "execution_count": 70,
   "metadata": {},
   "outputs": [
    {
     "name": "stdout",
     "output_type": "stream",
     "text": [
      "Decision tree scores\n",
      "Accuracy score train: 0.7200956937799043\n",
      "Accuracy score test: 0.6666666666666666\n",
      "\n",
      "Confusion matrix\n",
      "[[ 2 32]\n",
      " [ 3 68]]\n",
      "\n",
      "Classification report\n",
      "              precision    recall  f1-score   support\n",
      "\n",
      "           N       0.40      0.06      0.10        34\n",
      "           Y       0.68      0.96      0.80        71\n",
      "\n",
      "    accuracy                           0.67       105\n",
      "   macro avg       0.54      0.51      0.45       105\n",
      "weighted avg       0.59      0.67      0.57       105\n",
      "\n"
     ]
    },
    {
     "data": {
      "image/svg+xml": [
       "<?xml version=\"1.0\" encoding=\"UTF-8\" standalone=\"no\"?>\n",
       "<!DOCTYPE svg PUBLIC \"-//W3C//DTD SVG 1.1//EN\"\n",
       " \"http://www.w3.org/Graphics/SVG/1.1/DTD/svg11.dtd\">\n",
       "<!-- Generated by graphviz version 12.1.2 (20240928.0832)\n",
       " -->\n",
       "<!-- Title: Tree Pages: 1 -->\n",
       "<svg width=\"556pt\" height=\"433pt\"\n",
       " viewBox=\"0.00 0.00 556.25 433.00\" xmlns=\"http://www.w3.org/2000/svg\" xmlns:xlink=\"http://www.w3.org/1999/xlink\">\n",
       "<g id=\"graph0\" class=\"graph\" transform=\"scale(1 1) rotate(0) translate(4 429)\">\n",
       "<title>Tree</title>\n",
       "<polygon fill=\"white\" stroke=\"none\" points=\"-4,4 -4,-429 552.25,-429 552.25,4 -4,4\"/>\n",
       "<!-- 0 -->\n",
       "<g id=\"node1\" class=\"node\">\n",
       "<title>0</title>\n",
       "<path fill=\"#8bc5f0\" stroke=\"black\" d=\"M450.62,-425C450.62,-425 301.88,-425 301.88,-425 295.88,-425 289.88,-419 289.88,-413 289.88,-413 289.88,-354 289.88,-354 289.88,-348 295.88,-342 301.88,-342 301.88,-342 450.62,-342 450.62,-342 456.62,-342 462.62,-348 462.62,-354 462.62,-354 462.62,-413 462.62,-413 462.62,-419 456.62,-425 450.62,-425\"/>\n",
       "<text text-anchor=\"start\" x=\"297.88\" y=\"-407.7\" font-family=\"Helvetica,sans-Serif\" font-size=\"14.00\">LoanAmountTerm ≤ 1.185</text>\n",
       "<text text-anchor=\"start\" x=\"341\" y=\"-392.7\" font-family=\"Helvetica,sans-Serif\" font-size=\"14.00\">gini = 0.413</text>\n",
       "<text text-anchor=\"start\" x=\"331.62\" y=\"-377.7\" font-family=\"Helvetica,sans-Serif\" font-size=\"14.00\">samples = 418</text>\n",
       "<text text-anchor=\"start\" x=\"311\" y=\"-362.7\" font-family=\"Helvetica,sans-Serif\" font-size=\"14.00\">value = [122.0, 296.0]</text>\n",
       "<text text-anchor=\"start\" x=\"348.5\" y=\"-347.7\" font-family=\"Helvetica,sans-Serif\" font-size=\"14.00\">class = Y</text>\n",
       "</g>\n",
       "<!-- 1 -->\n",
       "<g id=\"node2\" class=\"node\">\n",
       "<title>1</title>\n",
       "<path fill=\"#87c4ef\" stroke=\"black\" d=\"M386.12,-306C386.12,-306 192.38,-306 192.38,-306 186.38,-306 180.38,-300 180.38,-294 180.38,-294 180.38,-235 180.38,-235 180.38,-229 186.38,-223 192.38,-223 192.38,-223 386.12,-223 386.12,-223 392.12,-223 398.12,-229 398.12,-235 398.12,-235 398.12,-294 398.12,-294 398.12,-300 392.12,-306 386.12,-306\"/>\n",
       "<text text-anchor=\"start\" x=\"188.38\" y=\"-288.7\" font-family=\"Helvetica,sans-Serif\" font-size=\"14.00\">PropertyArea_Semiurban ≤ 0.195</text>\n",
       "<text text-anchor=\"start\" x=\"254\" y=\"-273.7\" font-family=\"Helvetica,sans-Serif\" font-size=\"14.00\">gini = 0.406</text>\n",
       "<text text-anchor=\"start\" x=\"244.62\" y=\"-258.7\" font-family=\"Helvetica,sans-Serif\" font-size=\"14.00\">samples = 410</text>\n",
       "<text text-anchor=\"start\" x=\"224\" y=\"-243.7\" font-family=\"Helvetica,sans-Serif\" font-size=\"14.00\">value = [116.0, 294.0]</text>\n",
       "<text text-anchor=\"start\" x=\"261.5\" y=\"-228.7\" font-family=\"Helvetica,sans-Serif\" font-size=\"14.00\">class = Y</text>\n",
       "</g>\n",
       "<!-- 0&#45;&gt;1 -->\n",
       "<g id=\"edge1\" class=\"edge\">\n",
       "<title>0&#45;&gt;1</title>\n",
       "<path fill=\"none\" stroke=\"black\" d=\"M345.82,-341.58C339.49,-333.07 332.76,-324.01 326.23,-315.23\"/>\n",
       "<polygon fill=\"black\" stroke=\"black\" points=\"329.19,-313.35 320.42,-307.41 323.58,-317.53 329.19,-313.35\"/>\n",
       "<text text-anchor=\"middle\" x=\"315.88\" y=\"-325.13\" font-family=\"Helvetica,sans-Serif\" font-size=\"14.00\">True</text>\n",
       "</g>\n",
       "<!-- 8 -->\n",
       "<g id=\"node9\" class=\"node\">\n",
       "<title>8</title>\n",
       "<path fill=\"#eeab7b\" stroke=\"black\" d=\"M498.25,-298.5C498.25,-298.5 428.25,-298.5 428.25,-298.5 422.25,-298.5 416.25,-292.5 416.25,-286.5 416.25,-286.5 416.25,-242.5 416.25,-242.5 416.25,-236.5 422.25,-230.5 428.25,-230.5 428.25,-230.5 498.25,-230.5 498.25,-230.5 504.25,-230.5 510.25,-236.5 510.25,-242.5 510.25,-242.5 510.25,-286.5 510.25,-286.5 510.25,-292.5 504.25,-298.5 498.25,-298.5\"/>\n",
       "<text text-anchor=\"start\" x=\"428\" y=\"-281.2\" font-family=\"Helvetica,sans-Serif\" font-size=\"14.00\">gini = 0.375</text>\n",
       "<text text-anchor=\"start\" x=\"426.12\" y=\"-266.2\" font-family=\"Helvetica,sans-Serif\" font-size=\"14.00\">samples = 8</text>\n",
       "<text text-anchor=\"start\" x=\"424.25\" y=\"-251.2\" font-family=\"Helvetica,sans-Serif\" font-size=\"14.00\">value = [6, 2]</text>\n",
       "<text text-anchor=\"start\" x=\"435.12\" y=\"-236.2\" font-family=\"Helvetica,sans-Serif\" font-size=\"14.00\">class = N</text>\n",
       "</g>\n",
       "<!-- 0&#45;&gt;8 -->\n",
       "<g id=\"edge8\" class=\"edge\">\n",
       "<title>0&#45;&gt;8</title>\n",
       "<path fill=\"none\" stroke=\"black\" d=\"M406.68,-341.58C414.79,-330.66 423.58,-318.85 431.75,-307.86\"/>\n",
       "<polygon fill=\"black\" stroke=\"black\" points=\"434.38,-310.19 437.54,-300.08 428.76,-306.01 434.38,-310.19\"/>\n",
       "<text text-anchor=\"middle\" x=\"442.08\" y=\"-317.8\" font-family=\"Helvetica,sans-Serif\" font-size=\"14.00\">False</text>\n",
       "</g>\n",
       "<!-- 2 -->\n",
       "<g id=\"node3\" class=\"node\">\n",
       "<title>2</title>\n",
       "<path fill=\"#9bcdf2\" stroke=\"black\" d=\"M273.5,-187C273.5,-187 91,-187 91,-187 85,-187 79,-181 79,-175 79,-175 79,-116 79,-116 79,-110 85,-104 91,-104 91,-104 273.5,-104 273.5,-104 279.5,-104 285.5,-110 285.5,-116 285.5,-116 285.5,-175 285.5,-175 285.5,-181 279.5,-187 273.5,-187\"/>\n",
       "<text text-anchor=\"start\" x=\"87\" y=\"-169.7\" font-family=\"Helvetica,sans-Serif\" font-size=\"14.00\">Education_Not Graduate ≤ 0.71</text>\n",
       "<text text-anchor=\"start\" x=\"147\" y=\"-154.7\" font-family=\"Helvetica,sans-Serif\" font-size=\"14.00\">gini = 0.443</text>\n",
       "<text text-anchor=\"start\" x=\"137.62\" y=\"-139.7\" font-family=\"Helvetica,sans-Serif\" font-size=\"14.00\">samples = 245</text>\n",
       "<text text-anchor=\"start\" x=\"132\" y=\"-124.7\" font-family=\"Helvetica,sans-Serif\" font-size=\"14.00\">value = [81, 164]</text>\n",
       "<text text-anchor=\"start\" x=\"154.5\" y=\"-109.7\" font-family=\"Helvetica,sans-Serif\" font-size=\"14.00\">class = Y</text>\n",
       "</g>\n",
       "<!-- 1&#45;&gt;2 -->\n",
       "<g id=\"edge2\" class=\"edge\">\n",
       "<title>1&#45;&gt;2</title>\n",
       "<path fill=\"none\" stroke=\"black\" d=\"M251.83,-222.58C243.88,-213.89 235.41,-204.63 227.22,-195.67\"/>\n",
       "<polygon fill=\"black\" stroke=\"black\" points=\"229.82,-193.33 220.49,-188.32 224.66,-198.06 229.82,-193.33\"/>\n",
       "</g>\n",
       "<!-- 5 -->\n",
       "<g id=\"node6\" class=\"node\">\n",
       "<title>5</title>\n",
       "<path fill=\"#6eb7ec\" stroke=\"black\" d=\"M477,-187C477,-187 315.5,-187 315.5,-187 309.5,-187 303.5,-181 303.5,-175 303.5,-175 303.5,-116 303.5,-116 303.5,-110 309.5,-104 315.5,-104 315.5,-104 477,-104 477,-104 483,-104 489,-110 489,-116 489,-116 489,-175 489,-175 489,-181 483,-187 477,-187\"/>\n",
       "<text text-anchor=\"start\" x=\"311.5\" y=\"-169.7\" font-family=\"Helvetica,sans-Serif\" font-size=\"14.00\">CoapplicantIncome ≤ &#45;0.056</text>\n",
       "<text text-anchor=\"start\" x=\"361\" y=\"-154.7\" font-family=\"Helvetica,sans-Serif\" font-size=\"14.00\">gini = 0.334</text>\n",
       "<text text-anchor=\"start\" x=\"351.62\" y=\"-139.7\" font-family=\"Helvetica,sans-Serif\" font-size=\"14.00\">samples = 165</text>\n",
       "<text text-anchor=\"start\" x=\"346\" y=\"-124.7\" font-family=\"Helvetica,sans-Serif\" font-size=\"14.00\">value = [35, 130]</text>\n",
       "<text text-anchor=\"start\" x=\"368.5\" y=\"-109.7\" font-family=\"Helvetica,sans-Serif\" font-size=\"14.00\">class = Y</text>\n",
       "</g>\n",
       "<!-- 1&#45;&gt;5 -->\n",
       "<g id=\"edge5\" class=\"edge\">\n",
       "<title>1&#45;&gt;5</title>\n",
       "<path fill=\"none\" stroke=\"black\" d=\"M326.67,-222.58C334.62,-213.89 343.09,-204.63 351.28,-195.67\"/>\n",
       "<polygon fill=\"black\" stroke=\"black\" points=\"353.84,-198.06 358.01,-188.32 348.68,-193.33 353.84,-198.06\"/>\n",
       "</g>\n",
       "<!-- 3 -->\n",
       "<g id=\"node4\" class=\"node\">\n",
       "<title>3</title>\n",
       "<path fill=\"#8ec7f0\" stroke=\"black\" d=\"M104.5,-68C104.5,-68 12,-68 12,-68 6,-68 0,-62 0,-56 0,-56 0,-12 0,-12 0,-6 6,0 12,0 12,0 104.5,0 104.5,0 110.5,0 116.5,-6 116.5,-12 116.5,-12 116.5,-56 116.5,-56 116.5,-62 110.5,-68 104.5,-68\"/>\n",
       "<text text-anchor=\"start\" x=\"26.75\" y=\"-50.7\" font-family=\"Helvetica,sans-Serif\" font-size=\"14.00\">gini = 0.42</text>\n",
       "<text text-anchor=\"start\" x=\"13.62\" y=\"-35.7\" font-family=\"Helvetica,sans-Serif\" font-size=\"14.00\">samples = 190</text>\n",
       "<text text-anchor=\"start\" x=\"8\" y=\"-20.7\" font-family=\"Helvetica,sans-Serif\" font-size=\"14.00\">value = [57, 133]</text>\n",
       "<text text-anchor=\"start\" x=\"30.5\" y=\"-5.7\" font-family=\"Helvetica,sans-Serif\" font-size=\"14.00\">class = Y</text>\n",
       "</g>\n",
       "<!-- 2&#45;&gt;3 -->\n",
       "<g id=\"edge3\" class=\"edge\">\n",
       "<title>2&#45;&gt;3</title>\n",
       "<path fill=\"none\" stroke=\"black\" d=\"M136.08,-103.73C125.75,-94.61 114.79,-84.93 104.46,-75.81\"/>\n",
       "<polygon fill=\"black\" stroke=\"black\" points=\"106.91,-73.3 97.09,-69.3 102.27,-78.54 106.91,-73.3\"/>\n",
       "</g>\n",
       "<!-- 4 -->\n",
       "<g id=\"node5\" class=\"node\">\n",
       "<title>4</title>\n",
       "<path fill=\"#d2e9f9\" stroke=\"black\" d=\"M254,-68C254,-68 146.5,-68 146.5,-68 140.5,-68 134.5,-62 134.5,-56 134.5,-56 134.5,-12 134.5,-12 134.5,-6 140.5,0 146.5,0 146.5,0 254,0 254,0 260,0 266,-6 266,-12 266,-12 266,-56 266,-56 266,-62 260,-68 254,-68\"/>\n",
       "<text text-anchor=\"start\" x=\"165\" y=\"-50.7\" font-family=\"Helvetica,sans-Serif\" font-size=\"14.00\">gini = 0.492</text>\n",
       "<text text-anchor=\"start\" x=\"159.38\" y=\"-35.7\" font-family=\"Helvetica,sans-Serif\" font-size=\"14.00\">samples = 55</text>\n",
       "<text text-anchor=\"start\" x=\"142.5\" y=\"-20.7\" font-family=\"Helvetica,sans-Serif\" font-size=\"14.00\">value = [24.0, 31.0]</text>\n",
       "<text text-anchor=\"start\" x=\"172.5\" y=\"-5.7\" font-family=\"Helvetica,sans-Serif\" font-size=\"14.00\">class = Y</text>\n",
       "</g>\n",
       "<!-- 2&#45;&gt;4 -->\n",
       "<g id=\"edge4\" class=\"edge\">\n",
       "<title>2&#45;&gt;4</title>\n",
       "<path fill=\"none\" stroke=\"black\" d=\"M188.95,-103.73C190.26,-95.79 191.63,-87.44 192.95,-79.39\"/>\n",
       "<polygon fill=\"black\" stroke=\"black\" points=\"196.36,-80.23 194.53,-69.79 189.45,-79.09 196.36,-80.23\"/>\n",
       "</g>\n",
       "<!-- 6 -->\n",
       "<g id=\"node7\" class=\"node\">\n",
       "<title>6</title>\n",
       "<path fill=\"#6ab6ec\" stroke=\"black\" d=\"M424.5,-68C424.5,-68 332,-68 332,-68 326,-68 320,-62 320,-56 320,-56 320,-12 320,-12 320,-6 326,0 332,0 332,0 424.5,0 424.5,0 430.5,0 436.5,-6 436.5,-12 436.5,-12 436.5,-56 436.5,-56 436.5,-62 430.5,-68 424.5,-68\"/>\n",
       "<text text-anchor=\"start\" x=\"346.75\" y=\"-50.7\" font-family=\"Helvetica,sans-Serif\" font-size=\"14.00\">gini = 0.32</text>\n",
       "<text text-anchor=\"start\" x=\"333.62\" y=\"-35.7\" font-family=\"Helvetica,sans-Serif\" font-size=\"14.00\">samples = 160</text>\n",
       "<text text-anchor=\"start\" x=\"328\" y=\"-20.7\" font-family=\"Helvetica,sans-Serif\" font-size=\"14.00\">value = [32, 128]</text>\n",
       "<text text-anchor=\"start\" x=\"350.5\" y=\"-5.7\" font-family=\"Helvetica,sans-Serif\" font-size=\"14.00\">class = Y</text>\n",
       "</g>\n",
       "<!-- 5&#45;&gt;6 -->\n",
       "<g id=\"edge6\" class=\"edge\">\n",
       "<title>5&#45;&gt;6</title>\n",
       "<path fill=\"none\" stroke=\"black\" d=\"M389.55,-103.73C388.24,-95.79 386.87,-87.44 385.55,-79.39\"/>\n",
       "<polygon fill=\"black\" stroke=\"black\" points=\"389.05,-79.09 383.97,-69.79 382.14,-80.23 389.05,-79.09\"/>\n",
       "</g>\n",
       "<!-- 7 -->\n",
       "<g id=\"node8\" class=\"node\">\n",
       "<title>7</title>\n",
       "<path fill=\"#f6d5bd\" stroke=\"black\" d=\"M536.25,-68C536.25,-68 466.25,-68 466.25,-68 460.25,-68 454.25,-62 454.25,-56 454.25,-56 454.25,-12 454.25,-12 454.25,-6 460.25,0 466.25,0 466.25,0 536.25,0 536.25,0 542.25,0 548.25,-6 548.25,-12 548.25,-12 548.25,-56 548.25,-56 548.25,-62 542.25,-68 536.25,-68\"/>\n",
       "<text text-anchor=\"start\" x=\"469.75\" y=\"-50.7\" font-family=\"Helvetica,sans-Serif\" font-size=\"14.00\">gini = 0.48</text>\n",
       "<text text-anchor=\"start\" x=\"464.12\" y=\"-35.7\" font-family=\"Helvetica,sans-Serif\" font-size=\"14.00\">samples = 5</text>\n",
       "<text text-anchor=\"start\" x=\"462.25\" y=\"-20.7\" font-family=\"Helvetica,sans-Serif\" font-size=\"14.00\">value = [3, 2]</text>\n",
       "<text text-anchor=\"start\" x=\"473.12\" y=\"-5.7\" font-family=\"Helvetica,sans-Serif\" font-size=\"14.00\">class = N</text>\n",
       "</g>\n",
       "<!-- 5&#45;&gt;7 -->\n",
       "<g id=\"edge7\" class=\"edge\">\n",
       "<title>5&#45;&gt;7</title>\n",
       "<path fill=\"none\" stroke=\"black\" d=\"M435.35,-103.73C443.92,-94.79 453,-85.32 461.59,-76.36\"/>\n",
       "<polygon fill=\"black\" stroke=\"black\" points=\"463.88,-79.03 468.27,-69.39 458.82,-74.19 463.88,-79.03\"/>\n",
       "</g>\n",
       "</g>\n",
       "</svg>\n"
      ],
      "text/plain": [
       "<graphviz.sources.Source at 0x1331e5790>"
      ]
     },
     "execution_count": 70,
     "metadata": {},
     "output_type": "execute_result"
    }
   ],
   "source": [
    "from sklearn.tree import DecisionTreeClassifier\n",
    "from sklearn.metrics import classification_report, confusion_matrix\n",
    "from sklearn import tree\n",
    "import graphviz\n",
    "\n",
    "# Crear el clasificador de árbol de decisión con hiperparámetros ajustados\n",
    "tree_clf = DecisionTreeClassifier(random_state=42, max_depth=3, min_samples_split=10, min_samples_leaf=5)\n",
    "\n",
    "# Entrenar el clasificador\n",
    "tree_clf.fit(X_train, y_train)\n",
    "\n",
    "# Realizar predicciones\n",
    "y_pred_tree = tree_clf.predict(X_test)\n",
    "y_pred_train_tree = tree_clf.predict(X_train)\n",
    "\n",
    "# Evaluar el clasificador\n",
    "print(\"Decision tree scores\")\n",
    "print(\"Accuracy score train: {}\".format(accuracy_score(y_train, y_pred_train_tree)))\n",
    "print(\"Accuracy score test: {}\".format(accuracy_score(y_test, y_pred_tree)))\n",
    "\n",
    "print()\n",
    "print(\"Confusion matrix\")\n",
    "print(confusion_matrix(y_test, y_pred_tree))\n",
    "print()\n",
    "print(\"Classification report\")\n",
    "print(classification_report(y_test, y_pred_tree))\n",
    "\n",
    "# Exportar el árbol de decisión a un archivo DOT\n",
    "dot_data = tree.export_graphviz(tree_clf, out_file=None, \n",
    "                                feature_names=X.columns,  \n",
    "                                class_names=tree_clf.classes_,  \n",
    "                                filled=True, rounded=True,  \n",
    "                                special_characters=True)  \n",
    "\n",
    "# Visualizar el árbol de decisión\n",
    "graph = graphviz.Source(dot_data)  \n",
    "graph.render(\"decision_tree\")  # Esto guardará el árbol como un archivo PDF llamado \"decision_tree.pdf\"\n",
    "graph"
   ]
  },
  {
   "cell_type": "markdown",
   "metadata": {},
   "source": [
    "### Clasificador Naive Bayes"
   ]
  },
  {
   "cell_type": "code",
   "execution_count": 71,
   "metadata": {},
   "outputs": [
    {
     "name": "stdout",
     "output_type": "stream",
     "text": [
      "Naive Bayes scores\n"
     ]
    },
    {
     "name": "stdout",
     "output_type": "stream",
     "text": [
      "Accuracy score train: 1.0\n",
      "Accuracy score test: 0.3238095238095238\n",
      "\n",
      "Confusion matrix\n",
      "[[34  0]\n",
      " [71  0]]\n",
      "\n",
      "Classification report\n",
      "              precision    recall  f1-score   support\n",
      "\n",
      "           N       0.32      1.00      0.49        34\n",
      "           Y       1.00      0.00      0.00        71\n",
      "\n",
      "    accuracy                           0.32       105\n",
      "   macro avg       0.66      0.50      0.24       105\n",
      "weighted avg       0.78      0.32      0.16       105\n",
      "\n"
     ]
    }
   ],
   "source": [
    "from sklearn.naive_bayes import GaussianNB\n",
    "from sklearn.metrics import classification_report, confusion_matrix\n",
    "\n",
    "# Crear el clasificador Naive Bayes\n",
    "nb_clf = GaussianNB()\n",
    "\n",
    "# Entrenar el clasificador\n",
    "nb_clf.fit(X_train, y_train)\n",
    "\n",
    "# Realizar predicciones\n",
    "y_pred_nb = nb_clf.predict(X_test)\n",
    "y_pred_train_nb = nb_clf.predict(X_train)\n",
    "\n",
    "# Evaluar el clasificador\n",
    "print(\"Naive Bayes scores\")\n",
    "print(\"Accuracy score train: {}\".format(accuracy_score(y_train, y_pred_train_nb)))\n",
    "print(\"Accuracy score test: {}\".format(accuracy_score(y_test, y_pred_nb)))\n",
    "\n",
    "print()\n",
    "print(\"Confusion matrix\")\n",
    "print(confusion_matrix(y_test, y_pred_nb))\n",
    "print()\n",
    "print(\"Classification report\")\n",
    "print(classification_report(y_test, y_pred_nb, zero_division=1))"
   ]
  }
 ],
 "metadata": {
  "kernelspec": {
   "display_name": "P1",
   "language": "python",
   "name": "python3"
  },
  "language_info": {
   "codemirror_mode": {
    "name": "ipython",
    "version": 3
   },
   "file_extension": ".py",
   "mimetype": "text/x-python",
   "name": "python",
   "nbconvert_exporter": "python",
   "pygments_lexer": "ipython3",
   "version": "3.12.7"
  }
 },
 "nbformat": 4,
 "nbformat_minor": 2
}
