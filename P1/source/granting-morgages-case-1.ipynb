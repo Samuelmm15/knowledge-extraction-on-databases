{
 "cells": [
  {
   "cell_type": "markdown",
   "metadata": {},
   "source": [
    "# Práctica 1 Extracción del conocimiento en bases de datos"
   ]
  },
  {
   "cell_type": "markdown",
   "metadata": {},
   "source": [
    "Se desea construir un sistema basado en Analítica de datos que\n",
    "ayude en la tarea de concesión de los créditos.\n",
    "\n",
    "## Tareas\n",
    "\n",
    "1. `Preparar los datos`. \n",
    "Desarrollar las tareas de prepararación de los\n",
    "datos necesarias para disponer de una base de datos apropiada\n",
    "para la tarea de clasificación. Entre las labores a realizar se encuentran las de visualización y comprensión de las variables, cambio de tipos, transformación e identificación de outliers y datos\n",
    "faltantes. También debe quedar claro si nos enfrentamos a una\n",
    "clasificación con clases balanceadas o no.\n"
   ]
  },
  {
   "cell_type": "markdown",
   "metadata": {},
   "source": [
    "Para comenzar con la práctica, primero se importan las librerías necesarias y se carga el dataset."
   ]
  },
  {
   "cell_type": "code",
   "execution_count": 1,
   "metadata": {},
   "outputs": [],
   "source": [
    "# Carga de las distintas librerías necesarias y el dataset del que se hace uso\n",
    "import pandas as pd\n",
    "\n",
    "\n",
    "# Carga del dataset\n",
    "dataset = pd.read_csv('../data/Base de datos - homeLoanAproval.csv')"
   ]
  },
  {
   "cell_type": "markdown",
   "metadata": {},
   "source": [
    "Una vez se tienen cargadas las distintas librerías de las cuales se va a hacer uso, y, el dataset, se procede a realizar los cambios de tipos, la transformación e identificación de outliers y datos faltantes."
   ]
  },
  {
   "cell_type": "code",
   "execution_count": 2,
   "metadata": {},
   "outputs": [
    {
     "name": "stdout",
     "output_type": "stream",
     "text": [
      "    Loan_ID Gender Married Dependents     Education SelfEmployed  \\\n",
      "0  LP001002   Male      No          0      Graduate           No   \n",
      "1  LP001003   Male     Yes          1      Graduate           No   \n",
      "2  LP001005   Male     Yes          0      Graduate          Yes   \n",
      "3  LP001006   Male     Yes          0  Not Graduate           No   \n",
      "4  LP001008   Male      No          0      Graduate           No   \n",
      "\n",
      "   ApplicantIncome CoapplicantIncome  LoanAmount  LoanAmountTerm PropertyArea  \\\n",
      "0             5849                 0         NaN           360.0        Urban   \n",
      "1             4583              1508       128.0           360.0        Rural   \n",
      "2             3000                 0        66.0           360.0        Urban   \n",
      "3             2583              2358       120.0           360.0        Urban   \n",
      "4             6000                 0       141.0           360.0        Urban   \n",
      "\n",
      "  LoanStatus  \n",
      "0          Y  \n",
      "1          N  \n",
      "2          Y  \n",
      "3          Y  \n",
      "4          Y  \n",
      "\n",
      "Número de registros y columnas del dataset:  (614, 12)\n"
     ]
    }
   ],
   "source": [
    "# Una vez cargado el dataset, se procede a la visualización de los datos del dataset\n",
    "\n",
    "# Se visualizan los primeros 5 registros del dataset\n",
    "print(dataset.head())\n",
    "\n",
    "# Se visualiza la cantidad de registros y columnas del dataset\n",
    "print()\n",
    "print('Número de registros y columnas del dataset: ', dataset.shape)"
   ]
  },
  {
   "cell_type": "code",
   "execution_count": 3,
   "metadata": {},
   "outputs": [
    {
     "name": "stdout",
     "output_type": "stream",
     "text": [
      "\n",
      "Tipos de datos de las columnas del dataset: \n",
      "Loan_ID               object\n",
      "Gender                object\n",
      "Married               object\n",
      "Dependents            object\n",
      "Education             object\n",
      "SelfEmployed          object\n",
      "ApplicantIncome        int64\n",
      "CoapplicantIncome     object\n",
      "LoanAmount           float64\n",
      "LoanAmountTerm       float64\n",
      "PropertyArea          object\n",
      "LoanStatus            object\n",
      "dtype: object\n",
      "\n",
      "Resumen estadístico de las columnas numéricas del dataset: \n",
      "       ApplicantIncome  LoanAmount  LoanAmountTerm\n",
      "count       614.000000  592.000000       600.00000\n",
      "mean       5403.459283  146.412162       342.00000\n",
      "std        6109.041673   85.587325        65.12041\n",
      "min         150.000000    9.000000        12.00000\n",
      "25%        2877.500000  100.000000       360.00000\n",
      "50%        3812.500000  128.000000       360.00000\n",
      "75%        5795.000000  168.000000       360.00000\n",
      "max       81000.000000  700.000000       480.00000\n"
     ]
    }
   ],
   "source": [
    "# Se identifican los tipos de datos de las columnas del dataset, además del significado de cada una de ellas\n",
    "print()\n",
    "print('Tipos de datos de las columnas del dataset: ')\n",
    "print(dataset.dtypes)\n",
    "\n",
    "# Se hace un resumen estadístico de las columnas numéricas del dataset\n",
    "print()\n",
    "print('Resumen estadístico de las columnas numéricas del dataset: ')\n",
    "print(dataset.describe())\n"
   ]
  },
  {
   "cell_type": "markdown",
   "metadata": {},
   "source": [
    "Teniendo en cuenta esto anterior, cabe destacar que el dataset se compone de 12 variables, de las cuales 11 son variables predictoras y 1 es la variable objetivo. Las variables predictoras son las siguientes:\n",
    "\n",
    "- `Loan_ID`: Identificador de la solicitud.\n",
    "- `Gender`: Género del solicitante.\n",
    "- `Married`: Estado civil del solicitante.\n",
    "- `Dependents`: Número de personas a cargo del solicitante.\n",
    "- `Education`: Nivel de educación del solicitante.\n",
    "- `Self_Employed`: Si el solicitante es autónomo o no.\n",
    "- `ApplicantIncome`: Ingresos del solicitante.\n",
    "- `CoapplicantIncome`: Ingresos del segundo solicitante del crédito.\n",
    "- `LoanAmount`: Cantidad del préstamo.\n",
    "- `LoanAmountTerm`: Plazo del préstamo (Medido en meses).\n",
    "- `PropertyArea`: Zona de la propiedad que se quiere hipotecar.\n",
    "- `LoanStatus`: Indica el estado de que se ha concedido o no el préstamo."
   ]
  },
  {
   "cell_type": "code",
   "execution_count": 4,
   "metadata": {},
   "outputs": [
    {
     "name": "stdout",
     "output_type": "stream",
     "text": [
      "\n",
      "Valores nulos de cada columna del dataset: \n",
      "Loan_ID               0\n",
      "Gender               13\n",
      "Married               3\n",
      "Dependents           15\n",
      "Education             0\n",
      "SelfEmployed         32\n",
      "ApplicantIncome       0\n",
      "CoapplicantIncome     0\n",
      "LoanAmount           22\n",
      "LoanAmountTerm       14\n",
      "PropertyArea          0\n",
      "LoanStatus            0\n",
      "dtype: int64\n"
     ]
    }
   ],
   "source": [
    "# Se identifican los valores nulos de cada columna del dataset\n",
    "print()\n",
    "print('Valores nulos de cada columna del dataset: ')\n",
    "print(dataset.isnull().sum())"
   ]
  },
  {
   "cell_type": "markdown",
   "metadata": {},
   "source": [
    "Teniendo en cuenta los valores nulos que se encuentran en las distintas columnas anteriores, se procede a tomar decisiones o acciones dependiendo del tipo de variable que se trate. "
   ]
  },
  {
   "cell_type": "code",
   "execution_count": 5,
   "metadata": {},
   "outputs": [],
   "source": [
    "# Transformación de los datos nulos del dataset\n",
    "\n",
    "# Imputación de los valores que posteriormente se transfomarán en categóricos a través de la moda\n",
    "dataset['Gender'] = dataset['Gender'].fillna(dataset['Gender'].mode()[0])\n",
    "dataset['Married'] = dataset['Married'].fillna(dataset['Married'].mode()[0])\n",
    "dataset['SelfEmployed'] = dataset['SelfEmployed'].fillna(dataset['SelfEmployed'].mode()[0])\n",
    "\n",
    "# Imputación de los valores de la variable de Dependents a través de la moda\n",
    "dataset['Dependents'] = dataset['Dependents'].fillna(dataset['Dependents'].mode()[0])\n",
    "\n",
    "# Imputación de los valores de la variable de LoanAmount a través de la mediana\n",
    "dataset['LoanAmount'] = dataset['LoanAmount'].fillna(dataset['LoanAmount'].median())\n",
    "\n",
    "# Imputación de los valores de la variable de LoanAmountTerm a través de la moda\n",
    "dataset['LoanAmountTerm'] = dataset['LoanAmountTerm'].fillna(dataset['LoanAmountTerm'].mode()[0])"
   ]
  },
  {
   "cell_type": "code",
   "execution_count": 6,
   "metadata": {},
   "outputs": [],
   "source": [
    "# Cambios de tipos de datos de las columnas del dataset para su correcto manejo\n",
    "\n",
    "# Conversión de columnas a tipo categórico, ya que este tipo para pandas es más eficiente que el tipo object, ya que se tratan de aquellas variables que pueden tomar un número limitado de valores distintos \n",
    "# Reemplazar valores no válidos en la columna 'Dependents'\n",
    "dataset['Dependents'] = dataset['Dependents'].replace('3+', 3)\n",
    "\n",
    "# Conversión de Dependents a tipo entero (int64)\n",
    "dataset['Dependents'] = dataset['Dependents'].astype('int64')\n",
    "\n",
    "# Conversión de columnas a tipo categórico\n",
    "dataset['Gender'] = dataset['Gender'].astype('category')\n",
    "dataset['Married'] = dataset['Married'].astype('category')\n",
    "dataset['Education'] = dataset['Education'].astype('category')\n",
    "dataset['SelfEmployed'] = dataset['SelfEmployed'].astype('category')\n",
    "dataset['PropertyArea'] = dataset['PropertyArea'].astype('category')\n",
    "dataset['LoanStatus'] = dataset['LoanStatus'].astype('category')\n",
    "\n",
    "# # Conversión de CoapplicantIncome a tipo numérico (float64)\n",
    "dataset['CoapplicantIncome'] = dataset['CoapplicantIncome'].str.replace('.', '', regex=False)\n",
    "dataset['CoapplicantIncome'] = pd.to_numeric(dataset['CoapplicantIncome'], errors='coerce')\n",
    "\n",
    "# Conversión de LoanAmountTerm a tipo entero\n",
    "dataset['LoanAmountTerm'] = dataset['LoanAmountTerm'].astype('int64')"
   ]
  },
  {
   "cell_type": "markdown",
   "metadata": {},
   "source": [
    "## Análisis de los datos"
   ]
  },
  {
   "cell_type": "markdown",
   "metadata": {},
   "source": [
    "b) Analizar los datos. Construir un clasificador k-NN, un árbol de\n",
    "clasificación y un clasificador naive Bayes. Se propone considerar\n",
    "varios escenarios. En el primero, independientemente de que existan o no datos faltantes o outliers, se aplicará el correspondiente\n",
    "algoritmo de inducción sin tener en cuenta estos hechos. En el segundo escenario, se aplicarán técnicas para tratar con los outliers\n",
    "y los datos faltantes y se construirán los anteriores clasificadores.\n",
    "Debe evaluarse también el uso de técnicas para tratar con clases desbalanceadas y el efecto que tienen estas técnicas en la calidad de los clasificadores obtenidos\n"
   ]
  },
  {
   "cell_type": "markdown",
   "metadata": {},
   "source": [
    "### Clasificador k-NN"
   ]
  },
  {
   "cell_type": "code",
   "execution_count": 7,
   "metadata": {},
   "outputs": [
    {
     "name": "stdout",
     "output_type": "stream",
     "text": [
      "[[ 6 37]\n",
      " [ 9 71]]\n",
      "              precision    recall  f1-score   support\n",
      "\n",
      "           N       0.40      0.14      0.21        43\n",
      "           Y       0.66      0.89      0.76        80\n",
      "\n",
      "    accuracy                           0.63       123\n",
      "   macro avg       0.53      0.51      0.48       123\n",
      "weighted avg       0.57      0.63      0.56       123\n",
      "\n"
     ]
    }
   ],
   "source": [
    "from sklearn.model_selection import train_test_split\n",
    "from sklearn.preprocessing import StandardScaler\n",
    "from sklearn.neighbors import KNeighborsClassifier\n",
    "from sklearn.metrics import classification_report, confusion_matrix\n",
    "import pandas as pd\n",
    "\n",
    "# Convertir columnas categóricas a variables dummy (para que sean tratadas como variables numéricas)\n",
    "X = pd.get_dummies(dataset.drop('LoanStatus', axis=1))\n",
    "y = dataset['LoanStatus']\n",
    "\n",
    "# Dividir el dataset en conjunto de entrenamiento y conjunto de prueba\n",
    "X_train, X_test, y_train, y_test = train_test_split(X, y, test_size=0.2, random_state=42)\n",
    "\n",
    "# Escalar las características\n",
    "scaler = StandardScaler()\n",
    "X_train = scaler.fit_transform(X_train)\n",
    "X_test = scaler.transform(X_test)\n",
    "\n",
    "# Crear el clasificador k-NN\n",
    "knn = KNeighborsClassifier(n_neighbors=5)\n",
    "\n",
    "# Entrenar el clasificador\n",
    "knn.fit(X_train, y_train)\n",
    "\n",
    "# Realizar predicciones\n",
    "y_pred = knn.predict(X_test)\n",
    "\n",
    "# Evaluar el clasificador\n",
    "print(confusion_matrix(y_test, y_pred))\n",
    "print(classification_report(y_test, y_pred))"
   ]
  },
  {
   "cell_type": "markdown",
   "metadata": {},
   "source": [
    "### Clasificador Árbol de clasificación"
   ]
  },
  {
   "cell_type": "code",
   "execution_count": 8,
   "metadata": {},
   "outputs": [
    {
     "name": "stdout",
     "output_type": "stream",
     "text": [
      "[[ 0 43]\n",
      " [ 3 77]]\n",
      "              precision    recall  f1-score   support\n",
      "\n",
      "           N       0.00      0.00      0.00        43\n",
      "           Y       0.64      0.96      0.77        80\n",
      "\n",
      "    accuracy                           0.63       123\n",
      "   macro avg       0.32      0.48      0.39       123\n",
      "weighted avg       0.42      0.63      0.50       123\n",
      "\n"
     ]
    },
    {
     "data": {
      "image/svg+xml": [
       "<?xml version=\"1.0\" encoding=\"UTF-8\" standalone=\"no\"?>\n",
       "<!DOCTYPE svg PUBLIC \"-//W3C//DTD SVG 1.1//EN\"\n",
       " \"http://www.w3.org/Graphics/SVG/1.1/DTD/svg11.dtd\">\n",
       "<!-- Generated by graphviz version 12.1.2 (20240928.0832)\n",
       " -->\n",
       "<!-- Title: Tree Pages: 1 -->\n",
       "<svg width=\"676pt\" height=\"433pt\"\n",
       " viewBox=\"0.00 0.00 675.50 433.00\" xmlns=\"http://www.w3.org/2000/svg\" xmlns:xlink=\"http://www.w3.org/1999/xlink\">\n",
       "<g id=\"graph0\" class=\"graph\" transform=\"scale(1 1) rotate(0) translate(4 429)\">\n",
       "<title>Tree</title>\n",
       "<polygon fill=\"white\" stroke=\"none\" points=\"-4,4 -4,-429 671.5,-429 671.5,4 -4,4\"/>\n",
       "<!-- 0 -->\n",
       "<g id=\"node1\" class=\"node\">\n",
       "<title>0</title>\n",
       "<path fill=\"#8fc8f0\" stroke=\"black\" d=\"M429.12,-425C429.12,-425 235.38,-425 235.38,-425 229.38,-425 223.38,-419 223.38,-413 223.38,-413 223.38,-354 223.38,-354 223.38,-348 229.38,-342 235.38,-342 235.38,-342 429.12,-342 429.12,-342 435.12,-342 441.12,-348 441.12,-354 441.12,-354 441.12,-413 441.12,-413 441.12,-419 435.12,-425 429.12,-425\"/>\n",
       "<text text-anchor=\"start\" x=\"231.38\" y=\"-407.7\" font-family=\"Helvetica,sans-Serif\" font-size=\"14.00\">PropertyArea_Semiurban ≤ 0.228</text>\n",
       "<text text-anchor=\"start\" x=\"297\" y=\"-392.7\" font-family=\"Helvetica,sans-Serif\" font-size=\"14.00\">gini = 0.423</text>\n",
       "<text text-anchor=\"start\" x=\"287.62\" y=\"-377.7\" font-family=\"Helvetica,sans-Serif\" font-size=\"14.00\">samples = 491</text>\n",
       "<text text-anchor=\"start\" x=\"278.25\" y=\"-362.7\" font-family=\"Helvetica,sans-Serif\" font-size=\"14.00\">value = [149, 342]</text>\n",
       "<text text-anchor=\"start\" x=\"304.5\" y=\"-347.7\" font-family=\"Helvetica,sans-Serif\" font-size=\"14.00\">class = Y</text>\n",
       "</g>\n",
       "<!-- 1 -->\n",
       "<g id=\"node2\" class=\"node\">\n",
       "<title>1</title>\n",
       "<path fill=\"#a8d4f4\" stroke=\"black\" d=\"M317.62,-306C317.62,-306 168.88,-306 168.88,-306 162.88,-306 156.88,-300 156.88,-294 156.88,-294 156.88,-235 156.88,-235 156.88,-229 162.88,-223 168.88,-223 168.88,-223 317.62,-223 317.62,-223 323.62,-223 329.62,-229 329.62,-235 329.62,-235 329.62,-294 329.62,-294 329.62,-300 323.62,-306 317.62,-306\"/>\n",
       "<text text-anchor=\"start\" x=\"164.88\" y=\"-288.7\" font-family=\"Helvetica,sans-Serif\" font-size=\"14.00\">LoanAmountTerm ≤ 1.185</text>\n",
       "<text text-anchor=\"start\" x=\"208\" y=\"-273.7\" font-family=\"Helvetica,sans-Serif\" font-size=\"14.00\">gini = 0.461</text>\n",
       "<text text-anchor=\"start\" x=\"198.62\" y=\"-258.7\" font-family=\"Helvetica,sans-Serif\" font-size=\"14.00\">samples = 300</text>\n",
       "<text text-anchor=\"start\" x=\"189.25\" y=\"-243.7\" font-family=\"Helvetica,sans-Serif\" font-size=\"14.00\">value = [108, 192]</text>\n",
       "<text text-anchor=\"start\" x=\"215.5\" y=\"-228.7\" font-family=\"Helvetica,sans-Serif\" font-size=\"14.00\">class = Y</text>\n",
       "</g>\n",
       "<!-- 0&#45;&gt;1 -->\n",
       "<g id=\"edge1\" class=\"edge\">\n",
       "<title>0&#45;&gt;1</title>\n",
       "<path fill=\"none\" stroke=\"black\" d=\"M301.12,-341.58C294.65,-333.07 287.76,-324.01 281.08,-315.23\"/>\n",
       "<polygon fill=\"black\" stroke=\"black\" points=\"283.97,-313.24 275.13,-307.4 278.4,-317.48 283.97,-313.24\"/>\n",
       "<text text-anchor=\"middle\" x=\"270.84\" y=\"-325.17\" font-family=\"Helvetica,sans-Serif\" font-size=\"14.00\">True</text>\n",
       "</g>\n",
       "<!-- 6 -->\n",
       "<g id=\"node7\" class=\"node\">\n",
       "<title>6</title>\n",
       "<path fill=\"#6fb8ec\" stroke=\"black\" d=\"M482.5,-306C482.5,-306 360,-306 360,-306 354,-306 348,-300 348,-294 348,-294 348,-235 348,-235 348,-229 354,-223 360,-223 360,-223 482.5,-223 482.5,-223 488.5,-223 494.5,-229 494.5,-235 494.5,-235 494.5,-294 494.5,-294 494.5,-300 488.5,-306 482.5,-306\"/>\n",
       "<text text-anchor=\"start\" x=\"356\" y=\"-288.7\" font-family=\"Helvetica,sans-Serif\" font-size=\"14.00\">LoanAmount ≤ &#45;1.032</text>\n",
       "<text text-anchor=\"start\" x=\"386\" y=\"-273.7\" font-family=\"Helvetica,sans-Serif\" font-size=\"14.00\">gini = 0.337</text>\n",
       "<text text-anchor=\"start\" x=\"376.62\" y=\"-258.7\" font-family=\"Helvetica,sans-Serif\" font-size=\"14.00\">samples = 191</text>\n",
       "<text text-anchor=\"start\" x=\"371\" y=\"-243.7\" font-family=\"Helvetica,sans-Serif\" font-size=\"14.00\">value = [41, 150]</text>\n",
       "<text text-anchor=\"start\" x=\"393.5\" y=\"-228.7\" font-family=\"Helvetica,sans-Serif\" font-size=\"14.00\">class = Y</text>\n",
       "</g>\n",
       "<!-- 0&#45;&gt;6 -->\n",
       "<g id=\"edge6\" class=\"edge\">\n",
       "<title>0&#45;&gt;6</title>\n",
       "<path fill=\"none\" stroke=\"black\" d=\"M363.38,-341.58C369.85,-333.07 376.74,-324.01 383.42,-315.23\"/>\n",
       "<polygon fill=\"black\" stroke=\"black\" points=\"386.1,-317.48 389.37,-307.4 380.53,-313.24 386.1,-317.48\"/>\n",
       "<text text-anchor=\"middle\" x=\"393.66\" y=\"-325.17\" font-family=\"Helvetica,sans-Serif\" font-size=\"14.00\">False</text>\n",
       "</g>\n",
       "<!-- 2 -->\n",
       "<g id=\"node3\" class=\"node\">\n",
       "<title>2</title>\n",
       "<path fill=\"#a3d2f3\" stroke=\"black\" d=\"M182.25,-187C182.25,-187 64.25,-187 64.25,-187 58.25,-187 52.25,-181 52.25,-175 52.25,-175 52.25,-116 52.25,-116 52.25,-110 58.25,-104 64.25,-104 64.25,-104 182.25,-104 182.25,-104 188.25,-104 194.25,-110 194.25,-116 194.25,-116 194.25,-175 194.25,-175 194.25,-181 188.25,-187 182.25,-187\"/>\n",
       "<text text-anchor=\"start\" x=\"60.25\" y=\"-169.7\" font-family=\"Helvetica,sans-Serif\" font-size=\"14.00\">LoanAmount ≤ 1.535</text>\n",
       "<text text-anchor=\"start\" x=\"88\" y=\"-154.7\" font-family=\"Helvetica,sans-Serif\" font-size=\"14.00\">gini = 0.455</text>\n",
       "<text text-anchor=\"start\" x=\"78.62\" y=\"-139.7\" font-family=\"Helvetica,sans-Serif\" font-size=\"14.00\">samples = 292</text>\n",
       "<text text-anchor=\"start\" x=\"69.25\" y=\"-124.7\" font-family=\"Helvetica,sans-Serif\" font-size=\"14.00\">value = [102, 190]</text>\n",
       "<text text-anchor=\"start\" x=\"95.5\" y=\"-109.7\" font-family=\"Helvetica,sans-Serif\" font-size=\"14.00\">class = Y</text>\n",
       "</g>\n",
       "<!-- 1&#45;&gt;2 -->\n",
       "<g id=\"edge2\" class=\"edge\">\n",
       "<title>1&#45;&gt;2</title>\n",
       "<path fill=\"none\" stroke=\"black\" d=\"M201.28,-222.58C192.18,-213.71 182.48,-204.25 173.11,-195.12\"/>\n",
       "<polygon fill=\"black\" stroke=\"black\" points=\"175.68,-192.73 166.08,-188.26 170.79,-197.74 175.68,-192.73\"/>\n",
       "</g>\n",
       "<!-- 5 -->\n",
       "<g id=\"node6\" class=\"node\">\n",
       "<title>5</title>\n",
       "<path fill=\"#eeab7b\" stroke=\"black\" d=\"M294.25,-179.5C294.25,-179.5 224.25,-179.5 224.25,-179.5 218.25,-179.5 212.25,-173.5 212.25,-167.5 212.25,-167.5 212.25,-123.5 212.25,-123.5 212.25,-117.5 218.25,-111.5 224.25,-111.5 224.25,-111.5 294.25,-111.5 294.25,-111.5 300.25,-111.5 306.25,-117.5 306.25,-123.5 306.25,-123.5 306.25,-167.5 306.25,-167.5 306.25,-173.5 300.25,-179.5 294.25,-179.5\"/>\n",
       "<text text-anchor=\"start\" x=\"224\" y=\"-162.2\" font-family=\"Helvetica,sans-Serif\" font-size=\"14.00\">gini = 0.375</text>\n",
       "<text text-anchor=\"start\" x=\"222.12\" y=\"-147.2\" font-family=\"Helvetica,sans-Serif\" font-size=\"14.00\">samples = 8</text>\n",
       "<text text-anchor=\"start\" x=\"220.25\" y=\"-132.2\" font-family=\"Helvetica,sans-Serif\" font-size=\"14.00\">value = [6, 2]</text>\n",
       "<text text-anchor=\"start\" x=\"231.12\" y=\"-117.2\" font-family=\"Helvetica,sans-Serif\" font-size=\"14.00\">class = N</text>\n",
       "</g>\n",
       "<!-- 1&#45;&gt;5 -->\n",
       "<g id=\"edge5\" class=\"edge\">\n",
       "<title>1&#45;&gt;5</title>\n",
       "<path fill=\"none\" stroke=\"black\" d=\"M248.85,-222.58C250.23,-212.43 251.73,-201.5 253.14,-191.18\"/>\n",
       "<polygon fill=\"black\" stroke=\"black\" points=\"256.6,-191.74 254.48,-181.36 249.66,-190.79 256.6,-191.74\"/>\n",
       "</g>\n",
       "<!-- 3 -->\n",
       "<g id=\"node4\" class=\"node\">\n",
       "<title>3</title>\n",
       "<path fill=\"#9dcff2\" stroke=\"black\" d=\"M104.5,-68C104.5,-68 12,-68 12,-68 6,-68 0,-62 0,-56 0,-56 0,-12 0,-12 0,-6 6,0 12,0 12,0 104.5,0 104.5,0 110.5,0 116.5,-6 116.5,-12 116.5,-12 116.5,-56 116.5,-56 116.5,-62 110.5,-68 104.5,-68\"/>\n",
       "<text text-anchor=\"start\" x=\"23\" y=\"-50.7\" font-family=\"Helvetica,sans-Serif\" font-size=\"14.00\">gini = 0.446</text>\n",
       "<text text-anchor=\"start\" x=\"13.62\" y=\"-35.7\" font-family=\"Helvetica,sans-Serif\" font-size=\"14.00\">samples = 271</text>\n",
       "<text text-anchor=\"start\" x=\"8\" y=\"-20.7\" font-family=\"Helvetica,sans-Serif\" font-size=\"14.00\">value = [91, 180]</text>\n",
       "<text text-anchor=\"start\" x=\"30.5\" y=\"-5.7\" font-family=\"Helvetica,sans-Serif\" font-size=\"14.00\">class = Y</text>\n",
       "</g>\n",
       "<!-- 2&#45;&gt;3 -->\n",
       "<g id=\"edge3\" class=\"edge\">\n",
       "<title>2&#45;&gt;3</title>\n",
       "<path fill=\"none\" stroke=\"black\" d=\"M99.05,-103.73C94.07,-95.34 88.81,-86.47 83.78,-78.01\"/>\n",
       "<polygon fill=\"black\" stroke=\"black\" points=\"86.9,-76.41 78.79,-69.6 80.88,-79.99 86.9,-76.41\"/>\n",
       "</g>\n",
       "<!-- 4 -->\n",
       "<g id=\"node5\" class=\"node\">\n",
       "<title>4</title>\n",
       "<path fill=\"#fdf4ed\" stroke=\"black\" d=\"M231.75,-68C231.75,-68 146.75,-68 146.75,-68 140.75,-68 134.75,-62 134.75,-56 134.75,-56 134.75,-12 134.75,-12 134.75,-6 140.75,0 146.75,0 146.75,0 231.75,0 231.75,0 237.75,0 243.75,-6 243.75,-12 243.75,-12 243.75,-56 243.75,-56 243.75,-62 237.75,-68 231.75,-68\"/>\n",
       "<text text-anchor=\"start\" x=\"154\" y=\"-50.7\" font-family=\"Helvetica,sans-Serif\" font-size=\"14.00\">gini = 0.499</text>\n",
       "<text text-anchor=\"start\" x=\"148.38\" y=\"-35.7\" font-family=\"Helvetica,sans-Serif\" font-size=\"14.00\">samples = 21</text>\n",
       "<text text-anchor=\"start\" x=\"142.75\" y=\"-20.7\" font-family=\"Helvetica,sans-Serif\" font-size=\"14.00\">value = [11, 10]</text>\n",
       "<text text-anchor=\"start\" x=\"161.12\" y=\"-5.7\" font-family=\"Helvetica,sans-Serif\" font-size=\"14.00\">class = N</text>\n",
       "</g>\n",
       "<!-- 2&#45;&gt;4 -->\n",
       "<g id=\"edge4\" class=\"edge\">\n",
       "<title>2&#45;&gt;4</title>\n",
       "<path fill=\"none\" stroke=\"black\" d=\"M147.83,-103.73C152.88,-95.34 158.22,-86.47 163.33,-78.01\"/>\n",
       "<polygon fill=\"black\" stroke=\"black\" points=\"166.23,-79.97 168.4,-69.6 160.24,-76.35 166.23,-79.97\"/>\n",
       "</g>\n",
       "<!-- 7 -->\n",
       "<g id=\"node8\" class=\"node\">\n",
       "<title>7</title>\n",
       "<path fill=\"#399de5\" stroke=\"black\" d=\"M445,-179.5C445,-179.5 367.5,-179.5 367.5,-179.5 361.5,-179.5 355.5,-173.5 355.5,-167.5 355.5,-167.5 355.5,-123.5 355.5,-123.5 355.5,-117.5 361.5,-111.5 367.5,-111.5 367.5,-111.5 445,-111.5 445,-111.5 451,-111.5 457,-117.5 457,-123.5 457,-123.5 457,-167.5 457,-167.5 457,-173.5 451,-179.5 445,-179.5\"/>\n",
       "<text text-anchor=\"start\" x=\"378.5\" y=\"-162.2\" font-family=\"Helvetica,sans-Serif\" font-size=\"14.00\">gini = 0.0</text>\n",
       "<text text-anchor=\"start\" x=\"365.38\" y=\"-147.2\" font-family=\"Helvetica,sans-Serif\" font-size=\"14.00\">samples = 12</text>\n",
       "<text text-anchor=\"start\" x=\"363.5\" y=\"-132.2\" font-family=\"Helvetica,sans-Serif\" font-size=\"14.00\">value = [0, 12]</text>\n",
       "<text text-anchor=\"start\" x=\"378.5\" y=\"-117.2\" font-family=\"Helvetica,sans-Serif\" font-size=\"14.00\">class = Y</text>\n",
       "</g>\n",
       "<!-- 6&#45;&gt;7 -->\n",
       "<g id=\"edge7\" class=\"edge\">\n",
       "<title>6&#45;&gt;7</title>\n",
       "<path fill=\"none\" stroke=\"black\" d=\"M416,-222.58C414.7,-212.43 413.3,-201.5 411.98,-191.18\"/>\n",
       "<polygon fill=\"black\" stroke=\"black\" points=\"415.46,-190.84 410.72,-181.36 408.52,-191.73 415.46,-190.84\"/>\n",
       "</g>\n",
       "<!-- 8 -->\n",
       "<g id=\"node9\" class=\"node\">\n",
       "<title>8</title>\n",
       "<path fill=\"#74baed\" stroke=\"black\" d=\"M609.5,-187C609.5,-187 487,-187 487,-187 481,-187 475,-181 475,-175 475,-175 475,-116 475,-116 475,-110 481,-104 487,-104 487,-104 609.5,-104 609.5,-104 615.5,-104 621.5,-110 621.5,-116 621.5,-116 621.5,-175 621.5,-175 621.5,-181 615.5,-187 609.5,-187\"/>\n",
       "<text text-anchor=\"start\" x=\"483\" y=\"-169.7\" font-family=\"Helvetica,sans-Serif\" font-size=\"14.00\">LoanAmount ≤ &#45;0.899</text>\n",
       "<text text-anchor=\"start\" x=\"513\" y=\"-154.7\" font-family=\"Helvetica,sans-Serif\" font-size=\"14.00\">gini = 0.353</text>\n",
       "<text text-anchor=\"start\" x=\"503.62\" y=\"-139.7\" font-family=\"Helvetica,sans-Serif\" font-size=\"14.00\">samples = 179</text>\n",
       "<text text-anchor=\"start\" x=\"498\" y=\"-124.7\" font-family=\"Helvetica,sans-Serif\" font-size=\"14.00\">value = [41, 138]</text>\n",
       "<text text-anchor=\"start\" x=\"520.5\" y=\"-109.7\" font-family=\"Helvetica,sans-Serif\" font-size=\"14.00\">class = Y</text>\n",
       "</g>\n",
       "<!-- 6&#45;&gt;8 -->\n",
       "<g id=\"edge8\" class=\"edge\">\n",
       "<title>6&#45;&gt;8</title>\n",
       "<path fill=\"none\" stroke=\"black\" d=\"M465.67,-222.58C475.39,-213.62 485.77,-204.06 495.78,-194.84\"/>\n",
       "<polygon fill=\"black\" stroke=\"black\" points=\"497.97,-197.58 502.96,-188.23 493.23,-192.43 497.97,-197.58\"/>\n",
       "</g>\n",
       "<!-- 9 -->\n",
       "<g id=\"node10\" class=\"node\">\n",
       "<title>9</title>\n",
       "<path fill=\"#f6d5bd\" stroke=\"black\" d=\"M521.25,-68C521.25,-68 451.25,-68 451.25,-68 445.25,-68 439.25,-62 439.25,-56 439.25,-56 439.25,-12 439.25,-12 439.25,-6 445.25,0 451.25,0 451.25,0 521.25,0 521.25,0 527.25,0 533.25,-6 533.25,-12 533.25,-12 533.25,-56 533.25,-56 533.25,-62 527.25,-68 521.25,-68\"/>\n",
       "<text text-anchor=\"start\" x=\"454.75\" y=\"-50.7\" font-family=\"Helvetica,sans-Serif\" font-size=\"14.00\">gini = 0.48</text>\n",
       "<text text-anchor=\"start\" x=\"449.12\" y=\"-35.7\" font-family=\"Helvetica,sans-Serif\" font-size=\"14.00\">samples = 5</text>\n",
       "<text text-anchor=\"start\" x=\"447.25\" y=\"-20.7\" font-family=\"Helvetica,sans-Serif\" font-size=\"14.00\">value = [3, 2]</text>\n",
       "<text text-anchor=\"start\" x=\"458.12\" y=\"-5.7\" font-family=\"Helvetica,sans-Serif\" font-size=\"14.00\">class = N</text>\n",
       "</g>\n",
       "<!-- 8&#45;&gt;9 -->\n",
       "<g id=\"edge9\" class=\"edge\">\n",
       "<title>8&#45;&gt;9</title>\n",
       "<path fill=\"none\" stroke=\"black\" d=\"M525.16,-103.73C520.46,-95.43 515.5,-86.67 510.76,-78.28\"/>\n",
       "<polygon fill=\"black\" stroke=\"black\" points=\"513.82,-76.59 505.85,-69.62 507.73,-80.04 513.82,-76.59\"/>\n",
       "</g>\n",
       "<!-- 10 -->\n",
       "<g id=\"node11\" class=\"node\">\n",
       "<title>10</title>\n",
       "<path fill=\"#70b8ec\" stroke=\"black\" d=\"M655.5,-68C655.5,-68 563,-68 563,-68 557,-68 551,-62 551,-56 551,-56 551,-12 551,-12 551,-6 557,0 563,0 563,0 655.5,0 655.5,0 661.5,0 667.5,-6 667.5,-12 667.5,-12 667.5,-56 667.5,-56 667.5,-62 661.5,-68 655.5,-68\"/>\n",
       "<text text-anchor=\"start\" x=\"574\" y=\"-50.7\" font-family=\"Helvetica,sans-Serif\" font-size=\"14.00\">gini = 0.341</text>\n",
       "<text text-anchor=\"start\" x=\"564.62\" y=\"-35.7\" font-family=\"Helvetica,sans-Serif\" font-size=\"14.00\">samples = 174</text>\n",
       "<text text-anchor=\"start\" x=\"559\" y=\"-20.7\" font-family=\"Helvetica,sans-Serif\" font-size=\"14.00\">value = [38, 136]</text>\n",
       "<text text-anchor=\"start\" x=\"581.5\" y=\"-5.7\" font-family=\"Helvetica,sans-Serif\" font-size=\"14.00\">class = Y</text>\n",
       "</g>\n",
       "<!-- 8&#45;&gt;10 -->\n",
       "<g id=\"edge10\" class=\"edge\">\n",
       "<title>8&#45;&gt;10</title>\n",
       "<path fill=\"none\" stroke=\"black\" d=\"M570.96,-103.73C575.59,-95.43 580.47,-86.67 585.14,-78.28\"/>\n",
       "<polygon fill=\"black\" stroke=\"black\" points=\"588.15,-80.06 589.96,-69.62 582.04,-76.65 588.15,-80.06\"/>\n",
       "</g>\n",
       "</g>\n",
       "</svg>\n"
      ],
      "text/plain": [
       "<graphviz.sources.Source at 0x117650d40>"
      ]
     },
     "execution_count": 8,
     "metadata": {},
     "output_type": "execute_result"
    }
   ],
   "source": [
    "from sklearn.tree import DecisionTreeClassifier\n",
    "from sklearn.metrics import classification_report, confusion_matrix\n",
    "from sklearn import tree\n",
    "import graphviz\n",
    "\n",
    "# Crear el clasificador de árbol de decisión con hiperparámetros ajustados\n",
    "tree_clf = DecisionTreeClassifier(random_state=42, max_depth=3, min_samples_split=10, min_samples_leaf=5)\n",
    "\n",
    "# Entrenar el clasificador\n",
    "tree_clf.fit(X_train, y_train)\n",
    "\n",
    "# Realizar predicciones\n",
    "y_pred_tree = tree_clf.predict(X_test)\n",
    "\n",
    "# Evaluar el clasificador\n",
    "print(confusion_matrix(y_test, y_pred_tree))\n",
    "print(classification_report(y_test, y_pred_tree))\n",
    "\n",
    "# Exportar el árbol de decisión a un archivo DOT\n",
    "dot_data = tree.export_graphviz(tree_clf, out_file=None, \n",
    "                                feature_names=X.columns,  \n",
    "                                class_names=tree_clf.classes_,  \n",
    "                                filled=True, rounded=True,  \n",
    "                                special_characters=True)  \n",
    "\n",
    "# Visualizar el árbol de decisión\n",
    "graph = graphviz.Source(dot_data)  \n",
    "graph.render(\"decision_tree\")  # Esto guardará el árbol como un archivo PDF llamado \"decision_tree.pdf\"\n",
    "graph"
   ]
  },
  {
   "cell_type": "markdown",
   "metadata": {},
   "source": [
    "### Clasificador Naive Bayes"
   ]
  },
  {
   "cell_type": "code",
   "execution_count": 9,
   "metadata": {},
   "outputs": [
    {
     "name": "stdout",
     "output_type": "stream",
     "text": [
      "[[43  0]\n",
      " [80  0]]\n",
      "              precision    recall  f1-score   support\n",
      "\n",
      "           N       0.35      1.00      0.52        43\n",
      "           Y       1.00      0.00      0.00        80\n",
      "\n",
      "    accuracy                           0.35       123\n",
      "   macro avg       0.67      0.50      0.26       123\n",
      "weighted avg       0.77      0.35      0.18       123\n",
      "\n"
     ]
    }
   ],
   "source": [
    "from sklearn.naive_bayes import GaussianNB\n",
    "from sklearn.metrics import classification_report, confusion_matrix\n",
    "\n",
    "# Crear el clasificador Naive Bayes\n",
    "nb_clf = GaussianNB()\n",
    "\n",
    "# Entrenar el clasificador\n",
    "nb_clf.fit(X_train, y_train)\n",
    "\n",
    "# Realizar predicciones\n",
    "y_pred_nb = nb_clf.predict(X_test)\n",
    "\n",
    "# Evaluar el clasificador\n",
    "print(confusion_matrix(y_test, y_pred_nb))\n",
    "print(classification_report(y_test, y_pred_nb, zero_division=1))"
   ]
  }
 ],
 "metadata": {
  "kernelspec": {
   "display_name": "P1",
   "language": "python",
   "name": "python3"
  },
  "language_info": {
   "codemirror_mode": {
    "name": "ipython",
    "version": 3
   },
   "file_extension": ".py",
   "mimetype": "text/x-python",
   "name": "python",
   "nbconvert_exporter": "python",
   "pygments_lexer": "ipython3",
   "version": "3.12.6"
  }
 },
 "nbformat": 4,
 "nbformat_minor": 2
}
