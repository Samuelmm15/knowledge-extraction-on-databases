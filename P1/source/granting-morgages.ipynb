{
 "cells": [
  {
   "cell_type": "markdown",
   "metadata": {},
   "source": [
    "# Práctica 1 Extracción del conocimiento en bases de datos"
   ]
  },
  {
   "cell_type": "markdown",
   "metadata": {},
   "source": [
    "Se desea construir un sistema basado en Analítica de datos que\n",
    "ayude en la tarea de concesión de los créditos.\n",
    "\n",
    "## Tareas\n",
    "\n",
    "1. `Preparar los datos`. \n",
    "Desarrollar las tareas de prepararación de los\n",
    "datos necesarias para disponer de una base de datos apropiada\n",
    "para la tarea de clasificación. Entre las labores a realizar se encuentran las de visualización y comprensión de las variables, cambio de tipos, transformación e identificación de outliers y datos\n",
    "faltantes. También debe quedar claro si nos enfrentamos a una\n",
    "clasificación con clases balanceadas o no.\n"
   ]
  },
  {
   "cell_type": "markdown",
   "metadata": {},
   "source": [
    "Para comenzar con la práctica, primero se importan las librerías necesarias y se carga el dataset."
   ]
  },
  {
   "cell_type": "code",
   "execution_count": 5,
   "metadata": {},
   "outputs": [],
   "source": [
    "# Carga de las distintas librerías necesarias y el dataset del que se hace uso\n",
    "import numpy as np\n",
    "import pandas as pd\n",
    "import matplotlib.pyplot as plt\n",
    "\n",
    "\n",
    "# Carga del dataset\n",
    "dataset = pd.read_csv('../data/Base de datos - homeLoanAproval.csv')"
   ]
  },
  {
   "cell_type": "markdown",
   "metadata": {},
   "source": [
    "Una vez se tienen cargadas las distintas librerías de las cuales se va a hacer uso, y, el dataset, se procede a realizar los cambios de tipos, la transformación e identificación de outliers y datos faltantes."
   ]
  },
  {
   "cell_type": "code",
   "execution_count": null,
   "metadata": {},
   "outputs": [],
   "source": [
    "# Una vez cargado el dataset, se procede a la visualización de los datos del dataset\n",
    "\n",
    "# Se visualizan los primeros 5 registros del dataset\n",
    "print(dataset.head())\n",
    "\n",
    "# Se visualiza la cantidad de registros y columnas del dataset\n",
    "print()\n",
    "print('Número de registros y columnas del dataset: ', dataset.shape)"
   ]
  },
  {
   "cell_type": "code",
   "execution_count": 12,
   "metadata": {},
   "outputs": [
    {
     "name": "stdout",
     "output_type": "stream",
     "text": [
      "\n",
      "Tipos de datos de las columnas del dataset: \n",
      "Loan_ID               object\n",
      "Gender                object\n",
      "Married               object\n",
      "Dependents            object\n",
      "Education             object\n",
      "SelfEmployed          object\n",
      "ApplicantIncome        int64\n",
      "CoapplicantIncome     object\n",
      "LoanAmount           float64\n",
      "LoanAmountTerm       float64\n",
      "PropertyArea          object\n",
      "LoanStatus            object\n",
      "dtype: object\n"
     ]
    }
   ],
   "source": [
    "# Se identifican los tipos de datos de las columnas del dataset, además del significado de cada una de ellas\n",
    "print()\n",
    "print('Tipos de datos de las columnas del dataset: ')\n",
    "print(dataset.dtypes)"
   ]
  },
  {
   "cell_type": "markdown",
   "metadata": {},
   "source": [
    "Teniendo en cuenta esto anterior, cabe destacar que el dataset se compone de 12 variables, de las cuales 11 son variables predictoras y 1 es la variable objetivo. Las variables predictoras son las siguientes:\n",
    "\n",
    "- `Loan_ID`: Identificador de la solicitud.\n",
    "- `Gender`: Género del solicitante.\n",
    "- `Married`: Estado civil del solicitante.\n",
    "- `Dependents`: Número de personas a cargo del solicitante.\n",
    "- `Education`: Nivel de educación del solicitante.\n",
    "- `Self_Employed`: Si el solicitante es autónomo o no.\n",
    "- `ApplicantIncome`: Ingresos del solicitante.\n",
    "- `CoapplicantIncome`: Ingresos del segundo solicitante del crédito.\n",
    "- `LoanAmount`: Cantidad del préstamo.\n",
    "- `LoanAmountTerm`: Plazo del préstamo (Medido en meses).\n",
    "- `PropertyArea`: Zona de la propiedad que se quiere hipotecar.\n",
    "- `LoanStatus`: Indica el estado de que se ha concedido o no el préstamo."
   ]
  },
  {
   "cell_type": "code",
   "execution_count": 13,
   "metadata": {},
   "outputs": [
    {
     "name": "stdout",
     "output_type": "stream",
     "text": [
      "\n",
      "Valores nulos de cada columna del dataset: \n",
      "Loan_ID               0\n",
      "Gender               13\n",
      "Married               3\n",
      "Dependents           15\n",
      "Education             0\n",
      "SelfEmployed         32\n",
      "ApplicantIncome       0\n",
      "CoapplicantIncome     0\n",
      "LoanAmount           22\n",
      "LoanAmountTerm       14\n",
      "PropertyArea          0\n",
      "LoanStatus            0\n",
      "dtype: int64\n"
     ]
    }
   ],
   "source": [
    "# Se identifican los valores nulos de cada columna del dataset\n",
    "print()\n",
    "print('Valores nulos de cada columna del dataset: ')\n",
    "print(dataset.isnull().sum())"
   ]
  },
  {
   "cell_type": "code",
   "execution_count": null,
   "metadata": {},
   "outputs": [],
   "source": [
    "# Transformación de los datos nulos del dataset "
   ]
  },
  {
   "cell_type": "code",
   "execution_count": null,
   "metadata": {},
   "outputs": [],
   "source": [
    "# Cambios de tipos de datos de las columnas del dataset para su correcto manejo\n",
    "dataset['Loan_ID'] = dataset['Loan_ID'].astype('str')\n",
    "dataset['Gender'] = dataset['Gender'].astype('str')\n",
    "dataset['Married'] = dataset['Married'].astype('str')\n"
   ]
  }
 ],
 "metadata": {
  "kernelspec": {
   "display_name": "P1",
   "language": "python",
   "name": "python3"
  },
  "language_info": {
   "codemirror_mode": {
    "name": "ipython",
    "version": 3
   },
   "file_extension": ".py",
   "mimetype": "text/x-python",
   "name": "python",
   "nbconvert_exporter": "python",
   "pygments_lexer": "ipython3",
   "version": "3.12.6"
  }
 },
 "nbformat": 4,
 "nbformat_minor": 2
}
